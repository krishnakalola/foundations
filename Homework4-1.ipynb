
import random

def get_word_pairs(text):
    words = text.split()
    word_pairs = [(words[i], words[i+1]) for i in range(len(words)-1)]
    return word_pairs

def count_word_pairs(word_pairs):
    word_pair_counts = {}
    for pair in word_pairs:
        if pair not in word_pair_counts:
            word_pair_counts[pair] = 1
        else:
            word_pair_counts[pair] += 1
    return word_pair_counts

def generate_sentence(word_pairs):
    sentence = []
    start_pairs = [pair for pair in word_pairs if pair[0].istitle()]  
    if not start_pairs:
        return 
    
    current_pair = random.choice(start_pairs)
    while current_pair[1] != '.':
        sentence.append(current_pair[0])
        next_pairs = [pair for pair in word_pairs if pair[0] == current_pair[1]]
        if not next_pairs:
            break
        current_pair = random.choices(next_pairs, k=1)[0]
    sentence.append(current_pair[0])  
    return ' '.join(sentence)

text = "The quick brown fox jumps over the lazy dog. The lazy dog barks at the moon."
word_pairs = get_word_pairs(text)
word_pair_counts = count_word_pairs(word_pairs)
sentence = generate_sentence(word_pairs)
print(sentence)

import random

unique_words = ['the', 'quick', 'brown', 'fox', 'jumps', 'over', 'lazy', 'dog', '.']

word_pairs = [(unique_words[i], unique_words[i+1]) for i in range(len(unique_words)-1)]

start_word = random.choice(unique_words)

sentence = start_word
while sentence[-1] != '.':
    next_word_pairs = [pair for pair in word_pairs if pair[0] == sentence.split()[-1]]
    next_word_pair = random.choice(next_word_pairs)
    sentence += ' ' + next_word_pair[1]

print(sentence)